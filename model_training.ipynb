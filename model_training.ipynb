{
 "cells": [
  {
   "cell_type": "code",
   "execution_count": 1,
   "metadata": {},
   "outputs": [],
   "source": [
    "import numpy as np\n",
    "import os\n",
    "from keras.models  import Sequential\n",
    "from keras.layers import Flatten,Conv2D,MaxPooling2D,Dense,Dropout,Activation\n",
    "from keras.callbacks import ModelCheckpoint\n",
    "from sklearn.model_selection import train_test_split\n"
   ]
  },
  {
   "cell_type": "code",
   "execution_count": 2,
   "metadata": {},
   "outputs": [],
   "source": [
    "data = np.load('data.npy')\n",
    "target = np.load('target.npy')"
   ]
  },
  {
   "cell_type": "code",
   "execution_count": 3,
   "metadata": {},
   "outputs": [
    {
     "data": {
      "text/plain": [
       "(1650, 100, 100, 1)"
      ]
     },
     "execution_count": 3,
     "metadata": {},
     "output_type": "execute_result"
    }
   ],
   "source": [
    "data.shape"
   ]
  },
  {
   "cell_type": "code",
   "execution_count": 4,
   "metadata": {},
   "outputs": [
    {
     "data": {
      "text/plain": [
       "(1650, 2)"
      ]
     },
     "execution_count": 4,
     "metadata": {},
     "output_type": "execute_result"
    }
   ],
   "source": [
    "target.shape"
   ]
  },
  {
   "cell_type": "code",
   "execution_count": 5,
   "metadata": {},
   "outputs": [
    {
     "name": "stdout",
     "output_type": "stream",
     "text": [
      "Model: \"sequential\"\n",
      "_________________________________________________________________\n",
      "Layer (type)                 Output Shape              Param #   \n",
      "=================================================================\n",
      "conv2d (Conv2D)              (None, 98, 98, 100)       1000      \n",
      "_________________________________________________________________\n",
      "max_pooling2d (MaxPooling2D) (None, 49, 49, 100)       0         \n",
      "_________________________________________________________________\n",
      "conv2d_1 (Conv2D)            (None, 47, 47, 100)       90100     \n",
      "_________________________________________________________________\n",
      "max_pooling2d_1 (MaxPooling2 (None, 23, 23, 100)       0         \n",
      "_________________________________________________________________\n",
      "flatten (Flatten)            (None, 52900)             0         \n",
      "_________________________________________________________________\n",
      "dropout (Dropout)            (None, 52900)             0         \n",
      "_________________________________________________________________\n",
      "dense (Dense)                (None, 50)                2645050   \n",
      "_________________________________________________________________\n",
      "dense_1 (Dense)              (None, 2)                 102       \n",
      "=================================================================\n",
      "Total params: 2,736,252\n",
      "Trainable params: 2,736,252\n",
      "Non-trainable params: 0\n",
      "_________________________________________________________________\n"
     ]
    }
   ],
   "source": [
    "model = Sequential()\n",
    "\n",
    "model.add(Conv2D(100,(3,3), input_shape = data.shape[1:],activation = 'relu'))\n",
    "model.add(MaxPooling2D((2,2)))\n",
    "\n",
    "model.add(Conv2D(100,(3,3),activation = 'relu'))\n",
    "model.add(MaxPooling2D((2,2)))\n",
    "\n",
    "model.add(Flatten())\n",
    "model.add(Dropout(0.5))\n",
    "model.add(Dense(50,activation = 'relu'))\n",
    "model.add(Dense(2,activation = 'softmax'))\n",
    "\n",
    "model.compile(optimizer = 'adam',metrics = ['accuracy'],loss = 'binary_crossentropy')\n",
    "model.summary()"
   ]
  },
  {
   "cell_type": "code",
   "execution_count": 6,
   "metadata": {},
   "outputs": [],
   "source": [
    "train_data,test_data,train_target,test_target = train_test_split(data,target,test_size = 0.1,random_state = 0)"
   ]
  },
  {
   "cell_type": "code",
   "execution_count": 7,
   "metadata": {},
   "outputs": [
    {
     "data": {
      "text/plain": [
       "((1485, 100, 100, 1), (165, 100, 100, 1))"
      ]
     },
     "execution_count": 7,
     "metadata": {},
     "output_type": "execute_result"
    }
   ],
   "source": [
    "train_data.shape,test_data.shape"
   ]
  },
  {
   "cell_type": "code",
   "execution_count": null,
   "metadata": {},
   "outputs": [],
   "source": []
  },
  {
   "cell_type": "code",
   "execution_count": 8,
   "metadata": {},
   "outputs": [
    {
     "name": "stdout",
     "output_type": "stream",
     "text": [
      "Epoch 1/20\n",
      "38/38 [==============================] - 26s 686ms/step - loss: 0.7939 - accuracy: 0.4992 - val_loss: 0.6932 - val_accuracy: 0.4714\n",
      "Epoch 2/20\n",
      "38/38 [==============================] - 27s 699ms/step - loss: 0.6782 - accuracy: 0.5816 - val_loss: 0.6133 - val_accuracy: 0.6734\n",
      "Epoch 3/20\n",
      "38/38 [==============================] - 28s 744ms/step - loss: 0.5287 - accuracy: 0.7391 - val_loss: 0.4504 - val_accuracy: 0.7946\n",
      "Epoch 4/20\n",
      "38/38 [==============================] - 28s 727ms/step - loss: 0.3430 - accuracy: 0.8552 - val_loss: 0.2950 - val_accuracy: 0.8653\n",
      "Epoch 5/20\n",
      "38/38 [==============================] - 30s 792ms/step - loss: 0.2468 - accuracy: 0.8998 - val_loss: 0.2465 - val_accuracy: 0.8990\n",
      "Epoch 6/20\n",
      "38/38 [==============================] - 29s 769ms/step - loss: 0.1864 - accuracy: 0.9242 - val_loss: 0.2475 - val_accuracy: 0.8956\n",
      "Epoch 7/20\n",
      "38/38 [==============================] - 27s 703ms/step - loss: 0.1926 - accuracy: 0.9217 - val_loss: 0.3060 - val_accuracy: 0.8754\n",
      "Epoch 8/20\n",
      "38/38 [==============================] - 27s 700ms/step - loss: 0.1385 - accuracy: 0.9453 - val_loss: 0.2507 - val_accuracy: 0.9259\n",
      "Epoch 9/20\n",
      "38/38 [==============================] - 29s 765ms/step - loss: 0.0971 - accuracy: 0.9646 - val_loss: 0.3324 - val_accuracy: 0.8956\n",
      "Epoch 10/20\n",
      "38/38 [==============================] - 29s 759ms/step - loss: 0.0790 - accuracy: 0.9672 - val_loss: 0.2377 - val_accuracy: 0.9226\n",
      "Epoch 11/20\n",
      "38/38 [==============================] - 26s 693ms/step - loss: 0.0871 - accuracy: 0.9731 - val_loss: 0.2137 - val_accuracy: 0.9259\n",
      "Epoch 12/20\n",
      "38/38 [==============================] - 27s 708ms/step - loss: 0.0811 - accuracy: 0.9672 - val_loss: 0.2323 - val_accuracy: 0.9259\n",
      "Epoch 13/20\n",
      "38/38 [==============================] - 27s 716ms/step - loss: 0.0834 - accuracy: 0.9638 - val_loss: 0.1831 - val_accuracy: 0.9360\n",
      "Epoch 14/20\n",
      "38/38 [==============================] - 27s 714ms/step - loss: 0.0534 - accuracy: 0.9832 - val_loss: 0.2088 - val_accuracy: 0.9192\n",
      "Epoch 15/20\n",
      "38/38 [==============================] - 27s 708ms/step - loss: 0.0462 - accuracy: 0.9832 - val_loss: 0.2311 - val_accuracy: 0.9293\n",
      "Epoch 16/20\n",
      "38/38 [==============================] - 27s 718ms/step - loss: 0.0366 - accuracy: 0.9882 - val_loss: 0.2249 - val_accuracy: 0.9192\n",
      "Epoch 17/20\n",
      "38/38 [==============================] - 27s 713ms/step - loss: 0.0383 - accuracy: 0.9857 - val_loss: 0.2434 - val_accuracy: 0.9293\n",
      "Epoch 18/20\n",
      "38/38 [==============================] - 27s 703ms/step - loss: 0.0518 - accuracy: 0.9798 - val_loss: 0.2092 - val_accuracy: 0.9259\n",
      "Epoch 19/20\n",
      "38/38 [==============================] - 30s 793ms/step - loss: 0.0451 - accuracy: 0.9865 - val_loss: 0.2056 - val_accuracy: 0.9293\n",
      "Epoch 20/20\n",
      "38/38 [==============================] - 28s 748ms/step - loss: 0.0307 - accuracy: 0.9907 - val_loss: 0.2150 - val_accuracy: 0.9394\n"
     ]
    }
   ],
   "source": [
    "history = model.fit(train_data,\n",
    "                   train_target,\n",
    "                   epochs=20,\n",
    "                \n",
    "                    validation_split=0.2)"
   ]
  },
  {
   "cell_type": "code",
   "execution_count": 9,
   "metadata": {},
   "outputs": [],
   "source": [
    "model.save(\"my_h5_model.h5\")"
   ]
  },
  {
   "cell_type": "code",
   "execution_count": null,
   "metadata": {},
   "outputs": [],
   "source": []
  }
 ],
 "metadata": {
  "kernelspec": {
   "display_name": "Python 3",
   "language": "python",
   "name": "python3"
  },
  "language_info": {
   "codemirror_mode": {
    "name": "ipython",
    "version": 3
   },
   "file_extension": ".py",
   "mimetype": "text/x-python",
   "name": "python",
   "nbconvert_exporter": "python",
   "pygments_lexer": "ipython3",
   "version": "3.8.3"
  }
 },
 "nbformat": 4,
 "nbformat_minor": 4
}
