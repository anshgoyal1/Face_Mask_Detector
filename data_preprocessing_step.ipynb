{
 "cells": [
  {
   "cell_type": "code",
   "execution_count": 1,
   "metadata": {},
   "outputs": [],
   "source": [
    "import cv2,os\n",
    "import numpy as np\n",
    "from keras.utils import np_utils"
   ]
  },
  {
   "cell_type": "code",
   "execution_count": 2,
   "metadata": {},
   "outputs": [],
   "source": [
    "data_path = 'train'\n",
    "categories = os.listdir(data_path)\n",
    "\n",
    "labels = [i for i in range(len(categories))]"
   ]
  },
  {
   "cell_type": "code",
   "execution_count": 3,
   "metadata": {},
   "outputs": [
    {
     "data": {
      "text/plain": [
       "[0, 1]"
      ]
     },
     "execution_count": 3,
     "metadata": {},
     "output_type": "execute_result"
    }
   ],
   "source": [
    "labels"
   ]
  },
  {
   "cell_type": "code",
   "execution_count": 4,
   "metadata": {},
   "outputs": [
    {
     "data": {
      "text/plain": [
       "['with_mask', 'without_mask']"
      ]
     },
     "execution_count": 4,
     "metadata": {},
     "output_type": "execute_result"
    }
   ],
   "source": [
    "categories"
   ]
  },
  {
   "cell_type": "code",
   "execution_count": 5,
   "metadata": {},
   "outputs": [
    {
     "name": "stdout",
     "output_type": "stream",
     "text": [
      "label of with_mask:  0\n",
      "label of without_mask:  1\n"
     ]
    }
   ],
   "source": [
    "print(\"label of with_mask: \", labels[0])\n",
    "print(\"label of without_mask: \", labels[1])\n"
   ]
  },
  {
   "cell_type": "code",
   "execution_count": 6,
   "metadata": {},
   "outputs": [
    {
     "name": "stdout",
     "output_type": "stream",
     "text": [
      "people with_mask:  826\n",
      "people without_mask:  824\n"
     ]
    }
   ],
   "source": [
    "print(\"people with_mask: \", len(os.listdir(data_path+'/with_mask/')))\n",
    "print(\"people without_mask: \", len(os.listdir(data_path+'/without_mask/')))"
   ]
  },
  {
   "cell_type": "code",
   "execution_count": 7,
   "metadata": {},
   "outputs": [],
   "source": [
    "label_dict = dict(zip(categories,labels))"
   ]
  },
  {
   "cell_type": "code",
   "execution_count": 8,
   "metadata": {},
   "outputs": [
    {
     "data": {
      "text/plain": [
       "{'with_mask': 0, 'without_mask': 1}"
      ]
     },
     "execution_count": 8,
     "metadata": {},
     "output_type": "execute_result"
    }
   ],
   "source": [
    "label_dict\n"
   ]
  },
  {
   "cell_type": "code",
   "execution_count": 9,
   "metadata": {},
   "outputs": [],
   "source": [
    "data = []\n",
    "target = []\n",
    "\n",
    "for category in categories:\n",
    "    folder_path = os.path.join(data_path,category)\n",
    "    image_names = os.listdir(folder_path)\n",
    "    \n",
    "    for image_name in image_names:\n",
    "        img_path = os.path.join(folder_path,image_name)\n",
    "        image = cv2.imread(img_path)\n",
    "        \n",
    "        try:\n",
    "            gray = cv2.cvtColor(image,cv2.COLOR_BGR2GRAY)\n",
    "            resized = cv2.resize(gray,(100,100))\n",
    "            data.append(resized)\n",
    "            target.append(label_dict[category])\n",
    "            \n",
    "        except Exception as e:\n",
    "            print(\"Exception\",e)\n",
    "            \n",
    "data = np.array(data)/255.0\n",
    "data =np.reshape(data,(data.shape[0],100,100,1))\n",
    "target = np.array(target)"
   ]
  },
  {
   "cell_type": "code",
   "execution_count": 10,
   "metadata": {},
   "outputs": [
    {
     "data": {
      "text/plain": [
       "array([[[0.09803922],\n",
       "        [0.10196078],\n",
       "        [0.10588235],\n",
       "        ...,\n",
       "        [0.12941176],\n",
       "        [0.12941176],\n",
       "        [0.1254902 ]],\n",
       "\n",
       "       [[0.10196078],\n",
       "        [0.10588235],\n",
       "        [0.10588235],\n",
       "        ...,\n",
       "        [0.13333333],\n",
       "        [0.12941176],\n",
       "        [0.1254902 ]],\n",
       "\n",
       "       [[0.10588235],\n",
       "        [0.10588235],\n",
       "        [0.10980392],\n",
       "        ...,\n",
       "        [0.1372549 ],\n",
       "        [0.13333333],\n",
       "        [0.1372549 ]],\n",
       "\n",
       "       ...,\n",
       "\n",
       "       [[0.05098039],\n",
       "        [0.05490196],\n",
       "        [0.05882353],\n",
       "        ...,\n",
       "        [0.0745098 ],\n",
       "        [0.06666667],\n",
       "        [0.06666667]],\n",
       "\n",
       "       [[0.0627451 ],\n",
       "        [0.06666667],\n",
       "        [0.07058824],\n",
       "        ...,\n",
       "        [0.08235294],\n",
       "        [0.0745098 ],\n",
       "        [0.05882353]],\n",
       "\n",
       "       [[0.07058824],\n",
       "        [0.0745098 ],\n",
       "        [0.07843137],\n",
       "        ...,\n",
       "        [0.09019608],\n",
       "        [0.08627451],\n",
       "        [0.05882353]]])"
      ]
     },
     "execution_count": 10,
     "metadata": {},
     "output_type": "execute_result"
    }
   ],
   "source": [
    "data[0]"
   ]
  },
  {
   "cell_type": "code",
   "execution_count": 11,
   "metadata": {},
   "outputs": [
    {
     "data": {
      "text/plain": [
       "0"
      ]
     },
     "execution_count": 11,
     "metadata": {},
     "output_type": "execute_result"
    }
   ],
   "source": [
    "target[0]"
   ]
  },
  {
   "cell_type": "code",
   "execution_count": 12,
   "metadata": {},
   "outputs": [
    {
     "data": {
      "text/plain": [
       "array([[1., 0.],\n",
       "       [1., 0.],\n",
       "       [1., 0.],\n",
       "       ...,\n",
       "       [0., 1.],\n",
       "       [0., 1.],\n",
       "       [0., 1.]], dtype=float32)"
      ]
     },
     "execution_count": 12,
     "metadata": {},
     "output_type": "execute_result"
    }
   ],
   "source": [
    "new_target = np_utils.to_categorical(target)\n",
    "new_target"
   ]
  },
  {
   "cell_type": "code",
   "execution_count": 13,
   "metadata": {},
   "outputs": [],
   "source": [
    "np.save('data',data)\n",
    "np.save('target',new_target)"
   ]
  },
  {
   "cell_type": "code",
   "execution_count": null,
   "metadata": {},
   "outputs": [],
   "source": []
  }
 ],
 "metadata": {
  "kernelspec": {
   "display_name": "Python 3",
   "language": "python",
   "name": "python3"
  },
  "language_info": {
   "codemirror_mode": {
    "name": "ipython",
    "version": 3
   },
   "file_extension": ".py",
   "mimetype": "text/x-python",
   "name": "python",
   "nbconvert_exporter": "python",
   "pygments_lexer": "ipython3",
   "version": "3.8.3"
  }
 },
 "nbformat": 4,
 "nbformat_minor": 4
}
